{
 "cells": [
  {
   "cell_type": "markdown",
   "metadata": {},
   "source": [
    "# L5: Automate Event Planning\n",
    "\n",
    "In this lesson, you will learn more about Tasks."
   ]
  },
  {
   "cell_type": "markdown",
   "metadata": {},
   "source": [
    "The libraries are already installed in the classroom. If you're running this notebook on your own machine, you can install the following:\n",
    "```Python\n",
    "!pip install crewai==0.28.8 crewai_tools==0.1.6 langchain_community==0.0.29\n",
    "```"
   ]
  },
  {
   "cell_type": "code",
   "execution_count": 1,
   "metadata": {
    "height": 64
   },
   "outputs": [],
   "source": [
    "# Warning control\n",
    "import warnings\n",
    "warnings.filterwarnings('ignore')"
   ]
  },
  {
   "cell_type": "markdown",
   "metadata": {},
   "source": [
    "- Import libraries, APIs and LLM"
   ]
  },
  {
   "cell_type": "code",
   "execution_count": 2,
   "metadata": {
    "height": 30
   },
   "outputs": [],
   "source": [
    "from crewai import Agent, Crew, Task"
   ]
  },
  {
   "cell_type": "markdown",
   "metadata": {},
   "source": [
    "**Note**: \n",
    "- The video uses `gpt-4-turbo`, but due to certain constraints, and in order to offer this course for free to everyone, the code you'll run here will use `gpt-3.5-turbo`.\n",
    "- You can use `gpt-4-turbo` when you run the notebook _locally_ (using `gpt-4-turbo` will not work on the platform)\n",
    "- Thank you for your understanding!"
   ]
  },
  {
   "cell_type": "code",
   "execution_count": 3,
   "metadata": {
    "height": 130
   },
   "outputs": [],
   "source": [
    "import os\n",
    "from utils import get_openai_api_key,get_serper_api_key\n",
    "\n",
    "openai_api_key = get_openai_api_key()\n",
    "os.environ[\"OPENAI_MODEL_NAME\"] = 'gpt-3.5-turbo'\n",
    "os.environ[\"SERPER_API_KEY\"] = get_serper_api_key()"
   ]
  },
  {
   "cell_type": "markdown",
   "metadata": {},
   "source": [
    "## crewAI Tools"
   ]
  },
  {
   "cell_type": "code",
   "execution_count": 4,
   "metadata": {
    "height": 113
   },
   "outputs": [],
   "source": [
    "from crewai_tools import ScrapeWebsiteTool, SerperDevTool\n",
    "\n",
    "# Initialize the tools\n",
    "search_tool = SerperDevTool()\n",
    "scrape_tool = ScrapeWebsiteTool()"
   ]
  },
  {
   "cell_type": "markdown",
   "metadata": {},
   "source": [
    "## Creating Agents"
   ]
  },
  {
   "cell_type": "code",
   "execution_count": 5,
   "metadata": {
    "height": 283
   },
   "outputs": [],
   "source": [
    "# Agent 1: Venue Coordinator\n",
    "venue_coordinator = Agent(\n",
    "    role=\"Venue Coordinator\",\n",
    "    goal=\"Identify and book an appropriate venue \"\n",
    "    \"based on event requirements\",\n",
    "    tools=[search_tool, scrape_tool],\n",
    "    verbose=True,\n",
    "    backstory=(\n",
    "        \"With a keen sense of space and \"\n",
    "        \"understanding of event logistics, \"\n",
    "        \"you excel at finding and securing \"\n",
    "        \"the perfect venue that fits the event's theme, \"\n",
    "        \"size, and budget constraints.\"\n",
    "    )\n",
    ")"
   ]
  },
  {
   "cell_type": "code",
   "execution_count": 6,
   "metadata": {
    "height": 300
   },
   "outputs": [],
   "source": [
    " # Agent 2: Logistics Manager\n",
    "logistics_manager = Agent(\n",
    "    role='Logistics Manager',\n",
    "    goal=(\n",
    "        \"Manage all logistics for the event \"\n",
    "        \"including catering and equipmen\"\n",
    "    ),\n",
    "    tools=[search_tool, scrape_tool],\n",
    "    verbose=True,\n",
    "    backstory=(\n",
    "        \"Organized and detail-oriented, \"\n",
    "        \"you ensure that every logistical aspect of the event \"\n",
    "        \"from catering to equipment setup \"\n",
    "        \"is flawlessly executed to create a seamless experience.\"\n",
    "    )\n",
    ")"
   ]
  },
  {
   "cell_type": "code",
   "execution_count": 7,
   "metadata": {
    "height": 266
   },
   "outputs": [],
   "source": [
    "# Agent 3: Marketing and Communications Agent\n",
    "marketing_communications_agent = Agent(\n",
    "    role=\"Marketing and Communications Agent\",\n",
    "    goal=\"Effectively market the event and \"\n",
    "         \"communicate with participants\",\n",
    "    tools=[search_tool, scrape_tool],\n",
    "    verbose=True,\n",
    "    backstory=(\n",
    "        \"Creative and communicative, \"\n",
    "        \"you craft compelling messages and \"\n",
    "        \"engage with potential attendees \"\n",
    "        \"to maximize event exposure and participation.\"\n",
    "    )\n",
    ")"
   ]
  },
  {
   "cell_type": "markdown",
   "metadata": {},
   "source": [
    "## Creating Venue Pydantic Object\n",
    "\n",
    "- Create a class `VenueDetails` using [Pydantic BaseModel](https://docs.pydantic.dev/latest/api/base_model/).\n",
    "- Agents will populate this object with information about different venues by creating different instances of it."
   ]
  },
  {
   "cell_type": "code",
   "execution_count": 8,
   "metadata": {
    "height": 149
   },
   "outputs": [],
   "source": [
    "from pydantic import BaseModel\n",
    "# Define a Pydantic model for venue details \n",
    "# (demonstrating Output as Pydantic)\n",
    "class VenueDetails(BaseModel):\n",
    "    name: str\n",
    "    address: str\n",
    "    capacity: int\n",
    "    booking_status: str"
   ]
  },
  {
   "cell_type": "markdown",
   "metadata": {},
   "source": [
    "## Creating Tasks\n",
    "- By using `output_json`, you can specify the structure of the output you want.\n",
    "- By using `output_file`, you can get your output in a file.\n",
    "- By setting `human_input=True`, the task will ask for human feedback (whether you like the results or not) before finalising it."
   ]
  },
  {
   "cell_type": "code",
   "execution_count": 9,
   "metadata": {
    "height": 215
   },
   "outputs": [],
   "source": [
    "venue_task = Task(\n",
    "    description=\"Find a venue in {event_city} \"\n",
    "                \"that meets criteria for {event_topic}.\",\n",
    "    expected_output=\"All the details of a specifically chosen\"\n",
    "                    \"venue you found to accommodate the event.\",\n",
    "    human_input=True,\n",
    "    output_json=VenueDetails,\n",
    "    output_file=\"venue_details.json\",  \n",
    "      # Outputs the venue details as a JSON file\n",
    "    agent=venue_coordinator\n",
    ")"
   ]
  },
  {
   "cell_type": "markdown",
   "metadata": {},
   "source": [
    "- By setting `async_execution=True`, it means the task can run in parallel with the tasks which come after it."
   ]
  },
  {
   "cell_type": "code",
   "execution_count": 10,
   "metadata": {
    "height": 215
   },
   "outputs": [],
   "source": [
    "logistics_task = Task(\n",
    "    description=\"Coordinate catering and \"\n",
    "                 \"equipment for an event \"\n",
    "                 \"with {expected_participants} participants \"\n",
    "                 \"on {tentative_date}.\",\n",
    "    expected_output=\"Confirmation of all logistics arrangements \"\n",
    "                    \"including catering and equipment setup.\",\n",
    "    human_input=True,\n",
    "    async_execution=True,\n",
    "    agent=logistics_manager\n",
    ")"
   ]
  },
  {
   "cell_type": "code",
   "execution_count": 11,
   "metadata": {
    "height": 198
   },
   "outputs": [],
   "source": [
    "marketing_task = Task(\n",
    "    description=\"Promote the {event_topic} \"\n",
    "                \"aiming to engage at least\"\n",
    "                \"{expected_participants} potential attendees.\",\n",
    "    expected_output=\"Report on marketing activities \"\n",
    "                    \"and attendee engagement formatted as markdown.\",\n",
    "    async_execution=True,\n",
    "    output_file=\"marketing_report.md\",  # Outputs the report as a text file\n",
    "    agent=marketing_communications_agent\n",
    ")"
   ]
  },
  {
   "cell_type": "markdown",
   "metadata": {},
   "source": [
    "## Creating the Crew"
   ]
  },
  {
   "cell_type": "markdown",
   "metadata": {},
   "source": [
    "**Note**: Since you set `async_execution=True` for `logistics_task` and `marketing_task` tasks, now the order for them does not matter in the `tasks` list."
   ]
  },
  {
   "cell_type": "code",
   "execution_count": 12,
   "metadata": {
    "height": 232
   },
   "outputs": [],
   "source": [
    "# Define the crew with agents and tasks\n",
    "event_management_crew = Crew(\n",
    "    agents=[venue_coordinator, \n",
    "            logistics_manager, \n",
    "            marketing_communications_agent],\n",
    "    \n",
    "    tasks=[venue_task, \n",
    "           logistics_task, \n",
    "           marketing_task],\n",
    "    \n",
    "    verbose=True\n",
    ")"
   ]
  },
  {
   "cell_type": "markdown",
   "metadata": {},
   "source": [
    "## Running the Crew\n",
    "\n",
    "- Set the inputs for the execution of the crew."
   ]
  },
  {
   "cell_type": "code",
   "execution_count": 13,
   "metadata": {
    "height": 215
   },
   "outputs": [],
   "source": [
    "event_details = {\n",
    "    'event_topic': \"Tech Innovation Conference\",\n",
    "    'event_description': \"A gathering of tech innovators \"\n",
    "                         \"and industry leaders \"\n",
    "                         \"to explore future technologies.\",\n",
    "    'event_city': \"San Francisco\",\n",
    "    'tentative_date': \"2024-09-15\",\n",
    "    'expected_participants': 500,\n",
    "    'budget': 20000,\n",
    "    'venue_type': \"Conference Hall\"\n",
    "}"
   ]
  },
  {
   "cell_type": "markdown",
   "metadata": {},
   "source": [
    "**Note 1**: LLMs can provide different outputs for they same input, so what you get might be different than what you see in the video."
   ]
  },
  {
   "cell_type": "markdown",
   "metadata": {},
   "source": [
    "**Note 2**: \n",
    "- Since you set `human_input=True` for some tasks, the execution will ask for your input before it finishes running.\n",
    "- When it asks for feedback, use your mouse pointer to first click in the text box before typing anything."
   ]
  },
  {
   "cell_type": "code",
   "execution_count": null,
   "metadata": {
    "height": 45
   },
   "outputs": [
    {
     "name": "stdout",
     "output_type": "stream",
     "text": [
      "\u001b[1m\u001b[95m [DEBUG]: == Working Agent: Venue Coordinator\u001b[00m\n",
      "\u001b[1m\u001b[95m [INFO]: == Starting Task: Find a venue in San Francisco that meets criteria for Tech Innovation Conference.\u001b[00m\n",
      "\n",
      "\n",
      "\u001b[1m> Entering new CrewAgentExecutor chain...\u001b[0m\n",
      "\u001b[32;1m\u001b[1;3mI need to find a venue in San Francisco that meets the criteria for a Tech Innovation Conference. I should consider the theme, size, and budget constraints of the event.\n",
      "\n",
      "Action: Search the internet\n",
      "Action Input: {\"search_query\": \"venues for Tech Innovation Conference in San Francisco\"}\u001b[0m\u001b[95m \n",
      "\n",
      "\n",
      "Search results: Title: Venue - World Agri-Tech Innovation Summit, San Francisco\n",
      "Link: https://worldagritechusa.com/venue/\n",
      "Snippet: SUMMIT VENUE: MARRIOTT MARQUIS · San Francisco International Airport (SFO), 14 miles away. Estimated taxi fare: 45 USD (one way) Estimated subway fare: 8.65 USD ...\n",
      "---\n",
      "Title: World Agri-Tech Innovation Summit, March 11-12, 2025\n",
      "Link: https://worldagritechusa.com/\n",
      "Snippet: The World Agri-Tech Innovation Summit is the stand out event with curated leaders, innovators and investors from across the AgTech landscape.\n",
      "---\n",
      "Title: AI Industry Conference Venue in SF\n",
      "Link: https://ssfconf.com/ai-conference-venue-sf/\n",
      "Snippet: The South San Francisco Conference Center is the premier destination for AI summits, expos, and networking events, offering exceptional space, security, and ...\n",
      "---\n",
      "Title: Top 10 Must-Attend Tech Meetups and Conferences in San Francisco\n",
      "Link: https://www.nucamp.co/blog/coding-bootcamp-san-francisco-ca-top-10-mustattend-tech-meetups-and-conferences-in-san-francisco\n",
      "Snippet: Discover the top 10 must-attend tech meetups and conferences in San Francisco for 2025. Elevate your network and tech knowledge today!\n",
      "---\n",
      "Title: Top US Tech Conference Cities - Edin Studios\n",
      "Link: https://edinstudios.com/top-us-tech-conference-cities/\n",
      "Snippet: San Francisco's tech scene is complemented by numerous meetups, workshops, and seminars happening regularly. Coffee shops become informal networking hubs, and ...\n",
      "---\n",
      "Title: TECHSPO San Francisco 2025\n",
      "Link: https://techsposanfrancisco.com/\n",
      "Snippet: Event Zones Here's a peek at what you will see at TECHSPO: TECHSPO Hall The TECHSPO Hall features the latest innovations in Internet, Mobile, AdTech, ...\n",
      "---\n",
      "Title: Top 12 tech conferences in San Francisco for 2024 - TravelPerk\n",
      "Link: https://www.travelperk.com/blog/top-tech-conferences-in-san-francisco/\n",
      "Snippet: Santa Clara Convention Center, Santa Clara ... With over 200 speakers, the San Francisco Tech Summit offers an action-packed agenda for ...\n",
      "---\n",
      "Title: Top Tech Conferences in San Francisco 2025 - BigEvent\n",
      "Link: https://bigevent.io/tech-conferences-san-francisco/\n",
      "Snippet: Discover the top tech conferences in San Francisco! From AI to cybersecurity, explore the future of tech.\n",
      "---\n",
      "Title: NBA 2025 All-Star Technology Summit\n",
      "Link: https://techsummit.nba.com/\n",
      "Snippet: On Friday, February 14, 2025, we will host the 25th NBA All-Star Technology Summit in San Francisco. The event will bring together a unique, invitation-only ...\n",
      "---\n",
      "\n",
      "\u001b[00m\n",
      "\u001b[32;1m\u001b[1;3mThought: \n",
      "I need to review the information from the search results to find a venue that fits the criteria for the Tech Innovation Conference in San Francisco.\n",
      "\n",
      "Action: Read website content\n",
      "Action Input: {\"website_url\": \"https://worldagritechusa.com/venue/\"}\u001b[0m\u001b[95m \n",
      "\n",
      "World Agri-Tech Innovation Summit, San Francisco: Venue\n",
      "Skip to content\n",
      "Contact Us\n",
      "Home\n",
      "About\n",
      "About Us\n",
      "Advisory Board\n",
      "Who You’ll Meet\n",
      "Venue\n",
      "Upcoming Summits\n",
      "FAQs\n",
      "2025 Highlights\n",
      "Speakers\n",
      "Partners\n",
      "Start-Ups\n",
      "Program\n",
      "Main Stage\n",
      "Breakout Sessions\n",
      "Start-Up Arena\n",
      "Women’s Breakfast\n",
      "1-1 Meetings\n",
      "AI in Agriculture Forum\n",
      "XPRIZE Workshop\n",
      "Ginkgo Bioworks Tour\n",
      "News\n",
      "News\n",
      "Newsletter Sign Up\n",
      "REGISTER\n",
      "CLOSE\n",
      "Contact Us\n",
      " If you have any questions please contact:\n",
      "Marion Grimes\n",
      "Senior Business Development Manager\n",
      "Rethink Events\n",
      "T: +44 (0)1273 789989\n",
      "[email protected]\n",
      "Rethink Events Ltd,\n",
      "1st Floor, Huntingdon House,\n",
      "20a North Street,\n",
      "Brighton, BN1 1EB, UK\n",
      "Our Events\n",
      "\t\t\t\t\t\t\tVenue: Marriott Marquis, San Francisco\t\t\t\t\t\t\n",
      "ACCESS 2025 CONTENT\n",
      "SUMMIT VENUE: MARRIOTT MARQUIS\n",
      "World Agri-Tech is returning to California, the global epicenter for innovation discovery and investment.\n",
      "Better accommodation rates: No clash with other major events across San Francisco means you’ll benefit from lower rates across the city.\n",
      "Use our exclusive discount for your hotel room – book now to avoid disappointment!\n",
      "BOOK YOUR ROOM\n",
      "Marriott Marquis\n",
      "780 Mission Street\n",
      "San Francisco, CA 94103\n",
      "Getting to the Marriott Marquis from local airportsRead more\n",
      "San Francisco International Airport (SFO), 14 miles away\n",
      "Estimated taxi fare: 45 USD (one way)\n",
      "Estimated subway fare: 8.65 USD (one way)\n",
      "Take the yellow line towards Antioch to Powell Street BART Station. Exit via Market Street & 5th Street. Walk North East along Market Street and take a right onto 4th Street. The entrance will be on your left.\n",
      "Oakland International Airport (OAK), 20 miles away\n",
      "Estimated taxi fare: 60 USD (one way)\n",
      "Estimated subway fare: 4.05 USD (one way)\n",
      "Take the beige line towards Coliseum to Coliseum BART Station. Change here to take the green line towards Daly City to Powell Street BART Station. Exit via Market Street & 5th Street. Walk North East along Market Street and take a right onto 4th Street. The entrance will be on your left.\n",
      "Hotel ParkingRead more\n",
      "The hotel car park has limited availability, and parking spaces are allocated on a first-come, first-served basis.\n",
      "The parking fee is $91.2 per day for guests. Valet parking only.\n",
      "2nd Floor, One Gloucester Place\n",
      "Brighton\n",
      "BN1 4AA, UK.\n",
      "rethinkevents.com\n",
      "T: +44 (0)1273 789989\n",
      "E: [email protected]\n",
      " Built by Winc Studio\n",
      "\u001b[00m\n"
     ]
    }
   ],
   "source": [
    "result = event_management_crew.kickoff(inputs=event_details)"
   ]
  },
  {
   "cell_type": "markdown",
   "metadata": {},
   "source": [
    "- Display the generated `venue_details.json` file."
   ]
  },
  {
   "cell_type": "code",
   "execution_count": null,
   "metadata": {
    "height": 132
   },
   "outputs": [],
   "source": [
    "import json\n",
    "from pprint import pprint\n",
    "\n",
    "with open('venue_details.json') as f:\n",
    "   data = json.load(f)\n",
    "\n",
    "pprint(data)"
   ]
  },
  {
   "cell_type": "markdown",
   "metadata": {},
   "source": [
    "- Display the generated `marketing_report.md` file.\n",
    "\n",
    "**Note**: After `kickoff` execution has successfully ran, wait an extra 45 seconds for the `marketing_report.md` file to be generated. If you try to run the code below before the file has been generated, your output would look like:\n",
    "\n",
    "```\n",
    "marketing_report.md\n",
    "```\n",
    "\n",
    "If you see this output, wait some more and than try again."
   ]
  },
  {
   "cell_type": "code",
   "execution_count": null,
   "metadata": {
    "height": 47
   },
   "outputs": [],
   "source": [
    "from IPython.display import Markdown\n",
    "Markdown(\"marketing_report.md\")"
   ]
  },
  {
   "cell_type": "code",
   "execution_count": null,
   "metadata": {
    "height": 30
   },
   "outputs": [],
   "source": []
  },
  {
   "cell_type": "code",
   "execution_count": null,
   "metadata": {
    "height": 30
   },
   "outputs": [],
   "source": []
  }
 ],
 "metadata": {
  "kernelspec": {
   "display_name": "Python 3 (ipykernel)",
   "language": "python",
   "name": "python3"
  },
  "language_info": {
   "codemirror_mode": {
    "name": "ipython",
    "version": 3
   },
   "file_extension": ".py",
   "mimetype": "text/x-python",
   "name": "python",
   "nbconvert_exporter": "python",
   "pygments_lexer": "ipython3",
   "version": "3.11.9"
  }
 },
 "nbformat": 4,
 "nbformat_minor": 4
}
